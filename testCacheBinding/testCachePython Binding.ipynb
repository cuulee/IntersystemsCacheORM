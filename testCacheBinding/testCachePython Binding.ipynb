{
 "cells": [
  {
   "cell_type": "markdown",
   "metadata": {},
   "source": [
    "# Test Cache-Python Binding"
   ]
  },
  {
   "cell_type": "code",
   "execution_count": 1,
   "metadata": {},
   "outputs": [
    {
     "data": {
      "text/html": [
       "<style>.container { width:100% !important; }</style>"
      ],
      "text/plain": [
       "<IPython.core.display.HTML object>"
      ]
     },
     "metadata": {},
     "output_type": "execute_result"
    }
   ],
   "source": [
    "from IPython.core.display import display, HTML\n",
    "display(HTML(\"<style>.container { width:100% !important; }</style>\"))"
   ]
  },
  {
   "cell_type": "code",
   "execution_count": 2,
   "metadata": {
    "collapsed": true
   },
   "outputs": [],
   "source": [
    "# Demo of Intersystems Cache Python binding with Samples namespace and Sample.Person class\n",
    "import intersys.pythonbind3"
   ]
  },
  {
   "cell_type": "code",
   "execution_count": 3,
   "metadata": {
    "collapsed": true
   },
   "outputs": [],
   "source": [
    "conn = intersys.pythonbind3.connection( )\n",
    "conn.connect_now('localhost[1972]:SAMPLES', '_SYSTEM', 'SYS', None)\n",
    "samplesDB = intersys.pythonbind3.database(conn)"
   ]
  },
  {
   "cell_type": "code",
   "execution_count": 3,
   "metadata": {
    "collapsed": true
   },
   "outputs": [],
   "source": [
    "#Create a new instance of Sample.Person\n",
    "partner =  samplesDB.create_new(\"Sample.Person\", None)\n",
    "ssn1 = samplesDB.run_class_method(\"%Library.PopulateUtils\",\"SSN\",[])\n",
    "dob1 = samplesDB.run_class_method(\"%Library.PopulateUtils\",\"Date\",[])\n",
    "partner.set(\"Name\",\"Sekros, Zissis\")\n",
    "partner.set(\"SSN\",ssn1)\n",
    "partner.set(\"DOB\",dob1)"
   ]
  },
  {
   "cell_type": "code",
   "execution_count": null,
   "metadata": {
    "collapsed": true
   },
   "outputs": [],
   "source": [
    "# Save partner\n",
    "partner.run_obj_method(\"%Save\",[])\n",
    "print (\"Saved id: \"+str(partner.run_obj_method(\"%Id\",[])))"
   ]
  },
  {
   "cell_type": "code",
   "execution_count": null,
   "metadata": {
    "collapsed": true
   },
   "outputs": [],
   "source": []
  }
 ],
 "metadata": {
  "kernelspec": {
   "display_name": "Python 3",
   "language": "python",
   "name": "python3"
  },
  "language_info": {
   "codemirror_mode": {
    "name": "ipython",
    "version": 3
   },
   "file_extension": ".py",
   "mimetype": "text/x-python",
   "name": "python",
   "nbconvert_exporter": "python",
   "pygments_lexer": "ipython3",
   "version": "3.6.3"
  }
 },
 "nbformat": 4,
 "nbformat_minor": 2
}
