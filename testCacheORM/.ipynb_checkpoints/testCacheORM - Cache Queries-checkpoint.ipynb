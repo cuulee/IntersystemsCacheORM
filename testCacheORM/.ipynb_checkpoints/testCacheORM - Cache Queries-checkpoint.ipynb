{
 "cells": [
  {
   "cell_type": "markdown",
   "metadata": {},
   "source": [
    "# Demo of CachePython Module - Cache Queries"
   ]
  },
  {
   "cell_type": "code",
   "execution_count": 1,
   "metadata": {},
   "outputs": [
    {
     "ename": "ModuleNotFoundError",
     "evalue": "No module named 'CachePython'",
     "output_type": "error",
     "traceback": [
      "\u001b[0;31m---------------------------------------------------------------------------\u001b[0m",
      "\u001b[0;31mModuleNotFoundError\u001b[0m                       Traceback (most recent call last)",
      "\u001b[0;32m<ipython-input-1-c4c48d3d04ea>\u001b[0m in \u001b[0;36m<module>\u001b[0;34m()\u001b[0m\n\u001b[0;32m----> 1\u001b[0;31m \u001b[0;32mfrom\u001b[0m \u001b[0mCachePython\u001b[0m \u001b[0;32mimport\u001b[0m \u001b[0mCacheQuery\u001b[0m\u001b[0;34m\u001b[0m\u001b[0m\n\u001b[0m",
      "\u001b[0;31mModuleNotFoundError\u001b[0m: No module named 'CachePython'"
     ]
    }
   ],
   "source": [
    "from CachePython import CacheQuery"
   ]
  },
  {
   "cell_type": "markdown",
   "metadata": {},
   "source": [
    "## Create a CacheInstance object"
   ]
  },
  {
   "cell_type": "code",
   "execution_count": 2,
   "metadata": {},
   "outputs": [
    {
     "name": "stdout",
     "output_type": "stream",
     "text": [
      "CachePython Module : \n",
      "Enhanced OOP porting of Intersystems Cache python binding modules\n",
      "(C) 2017 HEALIS.EU - Athanassios I. Hatzis, All Rights Reserved\n",
      "\n",
      "CACHE Connection object to  SAMPLES  is created successfully.\n",
      "CACHE Connection Implementation Version :  1.0.1\n",
      "CACHE Database object is created successfully\n",
      "CACHE Query object created successfully\n"
     ]
    },
    {
     "data": {
      "text/plain": [
       "CacheQuery(localhost, 1972, _SYSTEM, SYS, SAMPLES, Sample, Person)"
      ]
     },
     "execution_count": 2,
     "metadata": {},
     "output_type": "execute_result"
    }
   ],
   "source": [
    "samples_query = CacheQuery(namespace='SAMPLES', username='_SYSTEM', password='SYS', dl=99)\n",
    "samples_query"
   ]
  },
  {
   "cell_type": "code",
   "execution_count": 3,
   "metadata": {},
   "outputs": [
    {
     "name": "stdout",
     "output_type": "stream",
     "text": [
      "CacheQuery(host='localhost', port=1972, username='_SYSTEM', password='SYS', namespace='SAMPLES', cachepackage='Sample', cacheclass='Person')\n"
     ]
    }
   ],
   "source": [
    "print(samples_query)"
   ]
  },
  {
   "cell_type": "code",
   "execution_count": 4,
   "metadata": {},
   "outputs": [
    {
     "name": "stdout",
     "output_type": "stream",
     "text": [
      "CACHE_Query      : <class 'intersys.pythonbind3.query'> \n",
      "CACHE_Database   : <class 'intersys.pythonbind3.database'> \n",
      "CACHE_Connection : <class 'intersys.pythonbind3.connection'>\n"
     ]
    }
   ],
   "source": [
    "print(samples_query.private_attributes)"
   ]
  },
  {
   "cell_type": "markdown",
   "metadata": {},
   "source": [
    "## Execute SQL query by passing an SQL string"
   ]
  },
  {
   "cell_type": "code",
   "execution_count": 5,
   "metadata": {},
   "outputs": [
    {
     "name": "stdout",
     "output_type": "stream",
     "text": [
      "result set is now ready and can be fetched\n"
     ]
    }
   ],
   "source": [
    "samples_query.execute_sql('SELECT ID, Name, DOB, SSN FROM Sample.Person')"
   ]
  },
  {
   "cell_type": "markdown",
   "metadata": {},
   "source": [
    "### get the header of the result set"
   ]
  },
  {
   "cell_type": "code",
   "execution_count": 6,
   "metadata": {},
   "outputs": [
    {
     "data": {
      "text/plain": [
       "['ID', 'Name', 'DOB', 'SSN']"
      ]
     },
     "execution_count": 6,
     "metadata": {},
     "output_type": "execute_result"
    }
   ],
   "source": [
    "samples_query.columns"
   ]
  },
  {
   "cell_type": "markdown",
   "metadata": {},
   "source": [
    "### query result set is a generator object"
   ]
  },
  {
   "cell_type": "code",
   "execution_count": 7,
   "metadata": {},
   "outputs": [
    {
     "data": {
      "text/plain": [
       "<generator object result_set at 0x7fd628740d00>"
      ]
     },
     "execution_count": 7,
     "metadata": {},
     "output_type": "execute_result"
    }
   ],
   "source": [
    "samples_query.result_set"
   ]
  },
  {
   "cell_type": "markdown",
   "metadata": {},
   "source": [
    "###  count the total number of records in the result set"
   ]
  },
  {
   "cell_type": "code",
   "execution_count": 8,
   "metadata": {},
   "outputs": [
    {
     "data": {
      "text/plain": [
       "200"
      ]
     },
     "execution_count": 8,
     "metadata": {},
     "output_type": "execute_result"
    }
   ],
   "source": [
    "samples_query.count_records()"
   ]
  },
  {
   "cell_type": "markdown",
   "metadata": {},
   "source": [
    "### re-execute query"
   ]
  },
  {
   "cell_type": "code",
   "execution_count": 9,
   "metadata": {},
   "outputs": [
    {
     "name": "stdout",
     "output_type": "stream",
     "text": [
      "result set is now ready and can be fetched\n"
     ]
    }
   ],
   "source": [
    "samples_query.execute_sql('SELECT ID, Name, DOB, SSN FROM Sample.Person')"
   ]
  },
  {
   "cell_type": "markdown",
   "metadata": {},
   "source": [
    "### print records"
   ]
  },
  {
   "cell_type": "code",
   "execution_count": 10,
   "metadata": {},
   "outputs": [
    {
     "name": "stdout",
     "output_type": "stream",
     "text": [
      "Iter: 0, Cnt: 1 - Element: [1, 'Isaksen,Alexandra T.', 1932-08-23, '207-26-6677']\n",
      "Iter: 1, Cnt: 2 - Element: [2, 'Isaacs,Emily R.', 1930-10-31, '295-77-6690']\n",
      "Iter: 2, Cnt: 3 - Element: [3, 'Feynman,James K.', 1968-07-21, '928-52-1962']\n",
      "Iter: 3, Cnt: 4 - Element: [4, 'Vanzetti,Mary R.', 2014-06-14, '234-96-2703']\n",
      "Iter: 4, Cnt: 5 - Element: [5, 'Orwell,Alfred R.', 1986-04-13, '422-27-1069']\n",
      "Iter: 5, Cnt: 6 - Element: [6, 'Ironhorse,Stuart F.', 1930-05-27, '597-44-6996']\n",
      "Iter: 6, Cnt: 7 - Element: [7, 'Browning,Mary C.', 1927-04-25, '692-44-7227']\n",
      "Iter: 7, Cnt: 8 - Element: [8, 'Jones,David S.', 1965-02-11, '269-67-6145']\n",
      "Iter: 8, Cnt: 9 - Element: [9, 'Xavier,Dan K.', 1949-06-29, '335-82-9284']\n",
      "Iter: 9, Cnt: 10 - Element: [10, 'Goncharuk,Greta W.', 1966-06-02, '134-52-9380']\n",
      "Iter: 10, Cnt: 11 - Element: [11, 'Yang,Angela V.', 1983-09-24, '913-73-2957']\n",
      "Iter: 11, Cnt: 12 - Element: [12, 'Palmer,Jules O.', 1988-05-30, '372-68-7006']\n",
      "Iter: 12, Cnt: 13 - Element: [13, 'Vonnegut,Danielle U.', 1947-07-26, '437-26-4645']\n",
      "Iter: 13, Cnt: 14 - Element: [14, \"O'Brien,Linda Y.\", 1995-11-21, '147-87-7303']\n",
      "Iter: 14, Cnt: 15 - Element: [15, 'Vanzetti,Sally C.', 1985-08-27, '232-39-2188']\n",
      "Iter: 15, Cnt: 16 - Element: [16, 'Wells,Wolfgang H.', 2004-12-30, '504-94-2516']\n",
      "Iter: 16, Cnt: 17 - Element: [17, 'Underman,Angela S.', 2016-06-16, '699-25-7087']\n",
      "Iter: 17, Cnt: 18 - Element: [18, 'Tweed,Alvin A.', 1964-07-16, '657-51-8721']\n",
      "Iter: 18, Cnt: 19 - Element: [19, 'Clay,Joe N.', 1988-05-18, '609-96-5473']\n",
      "Iter: 19, Cnt: 20 - Element: [20, 'Ragon,Valery O.', 1970-10-13, '527-28-3379']\n",
      "Iter: 20, Cnt: 21 - Element: [21, 'Munt,Peter N.', 2014-09-15, '590-44-1966']\n",
      "Iter: 21, Cnt: 22 - Element: [22, 'Long,Amanda M.', 1930-12-24, '875-21-6177']\n",
      "Iter: 22, Cnt: 23 - Element: [23, 'Klausner,Charles U.', 1952-04-03, '648-59-2250']\n",
      "Iter: 23, Cnt: 24 - Element: [24, 'Zemaitis,Howard L.', 1956-01-21, '781-50-2402']\n",
      "Iter: 24, Cnt: 25 - Element: [25, 'Schulte,Peter L.', 1929-06-19, '188-31-3016']\n",
      "Iter: 25, Cnt: 26 - Element: [26, 'Vonnegut,Jose G.', 1980-01-05, '282-12-9112']\n",
      "Iter: 26, Cnt: 27 - Element: [27, 'Chadbourne,Alfred O.', 1945-10-02, '222-42-3170']\n",
      "Iter: 27, Cnt: 28 - Element: [28, 'Levinson,Zoe O.', 1992-08-03, '864-94-2172']\n",
      "Iter: 28, Cnt: 29 - Element: [29, 'Bush,Uma S.', 2005-05-01, '302-57-9782']\n",
      "Iter: 29, Cnt: 30 - Element: [30, 'Clinton,Pat P.', 1927-06-02, '624-69-2315']\n",
      "Iter: 30, Cnt: 31 - Element: [31, 'Feynman,Dick K.', 1957-09-10, '328-54-8658']\n",
      "Iter: 31, Cnt: 32 - Element: [32, 'Xavier,Janice G.', 2000-03-20, '525-76-8476']\n",
      "Iter: 32, Cnt: 33 - Element: [33, 'Cerri,Sally E.', 1978-12-24, '633-17-6400']\n",
      "Iter: 33, Cnt: 34 - Element: [34, 'Johnson,Chris U.', 1947-06-23, '503-60-3800']\n",
      "Iter: 34, Cnt: 35 - Element: [35, 'Eastman,Frances U.', 1961-04-05, '155-60-2820']\n",
      "Iter: 35, Cnt: 36 - Element: [36, 'Yezek,Rhonda J.', 1948-06-17, '578-26-1788']\n",
      "Iter: 36, Cnt: 37 - Element: [37, 'Tsatsulin,Dan R.', 1974-12-17, '768-70-1581']\n",
      "Iter: 37, Cnt: 38 - Element: [38, 'Orlin,Rhonda M.', 1925-07-23, '482-36-6223']\n",
      "Iter: 38, Cnt: 39 - Element: [39, 'Newton,Barbara M.', 1974-01-21, '581-24-3221']\n",
      "Iter: 39, Cnt: 40 - Element: [40, 'Hertz,Gertrude N.', 1960-01-29, '741-59-7518']\n"
     ]
    }
   ],
   "source": [
    "samples_query.print_records(40)"
   ]
  },
  {
   "cell_type": "markdown",
   "metadata": {},
   "source": [
    "### display records in a pandas dataframe"
   ]
  },
  {
   "cell_type": "code",
   "execution_count": 11,
   "metadata": {},
   "outputs": [
    {
     "data": {
      "text/html": [
       "<div>\n",
       "<style>\n",
       "    .dataframe thead tr:only-child th {\n",
       "        text-align: right;\n",
       "    }\n",
       "\n",
       "    .dataframe thead th {\n",
       "        text-align: left;\n",
       "    }\n",
       "\n",
       "    .dataframe tbody tr th {\n",
       "        vertical-align: top;\n",
       "    }\n",
       "</style>\n",
       "<table border=\"1\" class=\"dataframe\">\n",
       "  <thead>\n",
       "    <tr style=\"text-align: right;\">\n",
       "      <th></th>\n",
       "      <th>ID</th>\n",
       "      <th>Name</th>\n",
       "      <th>DOB</th>\n",
       "      <th>SSN</th>\n",
       "    </tr>\n",
       "  </thead>\n",
       "  <tbody>\n",
       "    <tr>\n",
       "      <th>0</th>\n",
       "      <td>41</td>\n",
       "      <td>Ravazzolo,Charles X.</td>\n",
       "      <td>1953-07-16</td>\n",
       "      <td>924-20-1182</td>\n",
       "    </tr>\n",
       "    <tr>\n",
       "      <th>1</th>\n",
       "      <td>42</td>\n",
       "      <td>Diavolo,Angela K.</td>\n",
       "      <td>1955-08-04</td>\n",
       "      <td>763-59-8356</td>\n",
       "    </tr>\n",
       "    <tr>\n",
       "      <th>2</th>\n",
       "      <td>43</td>\n",
       "      <td>Drabek,Mo Q.</td>\n",
       "      <td>1961-10-21</td>\n",
       "      <td>538-94-9875</td>\n",
       "    </tr>\n",
       "    <tr>\n",
       "      <th>3</th>\n",
       "      <td>44</td>\n",
       "      <td>Umansky,Uma T.</td>\n",
       "      <td>1926-10-20</td>\n",
       "      <td>896-41-7906</td>\n",
       "    </tr>\n",
       "    <tr>\n",
       "      <th>4</th>\n",
       "      <td>45</td>\n",
       "      <td>Finn,Buzz D.</td>\n",
       "      <td>1952-02-03</td>\n",
       "      <td>210-10-9763</td>\n",
       "    </tr>\n",
       "    <tr>\n",
       "      <th>5</th>\n",
       "      <td>46</td>\n",
       "      <td>Zevon,Edward C.</td>\n",
       "      <td>1996-06-03</td>\n",
       "      <td>661-45-8189</td>\n",
       "    </tr>\n",
       "    <tr>\n",
       "      <th>6</th>\n",
       "      <td>47</td>\n",
       "      <td>Koenig,Clint H.</td>\n",
       "      <td>2013-09-19</td>\n",
       "      <td>642-38-5020</td>\n",
       "    </tr>\n",
       "    <tr>\n",
       "      <th>7</th>\n",
       "      <td>48</td>\n",
       "      <td>Hernandez,Rhonda F.</td>\n",
       "      <td>1979-04-26</td>\n",
       "      <td>658-17-2445</td>\n",
       "    </tr>\n",
       "    <tr>\n",
       "      <th>8</th>\n",
       "      <td>49</td>\n",
       "      <td>Donaldson,Emma W.</td>\n",
       "      <td>1928-12-28</td>\n",
       "      <td>689-96-9927</td>\n",
       "    </tr>\n",
       "    <tr>\n",
       "      <th>9</th>\n",
       "      <td>50</td>\n",
       "      <td>Tweed,Alexandra Q.</td>\n",
       "      <td>2013-02-07</td>\n",
       "      <td>134-86-7366</td>\n",
       "    </tr>\n",
       "    <tr>\n",
       "      <th>10</th>\n",
       "      <td>51</td>\n",
       "      <td>Leiberman,Emma L.</td>\n",
       "      <td>1953-08-21</td>\n",
       "      <td>791-95-1082</td>\n",
       "    </tr>\n",
       "    <tr>\n",
       "      <th>11</th>\n",
       "      <td>52</td>\n",
       "      <td>Burroughs,Keith C.</td>\n",
       "      <td>1955-02-17</td>\n",
       "      <td>305-17-9685</td>\n",
       "    </tr>\n",
       "    <tr>\n",
       "      <th>12</th>\n",
       "      <td>53</td>\n",
       "      <td>Olsen,Robert B.</td>\n",
       "      <td>1967-07-03</td>\n",
       "      <td>918-81-2873</td>\n",
       "    </tr>\n",
       "    <tr>\n",
       "      <th>13</th>\n",
       "      <td>54</td>\n",
       "      <td>Hammel,Quentin F.</td>\n",
       "      <td>1957-02-06</td>\n",
       "      <td>223-47-6264</td>\n",
       "    </tr>\n",
       "    <tr>\n",
       "      <th>14</th>\n",
       "      <td>55</td>\n",
       "      <td>Ramsay,Sophia I.</td>\n",
       "      <td>1977-02-15</td>\n",
       "      <td>650-96-7289</td>\n",
       "    </tr>\n",
       "    <tr>\n",
       "      <th>15</th>\n",
       "      <td>56</td>\n",
       "      <td>Ragon,Jose U.</td>\n",
       "      <td>1986-10-18</td>\n",
       "      <td>585-74-1584</td>\n",
       "    </tr>\n",
       "    <tr>\n",
       "      <th>16</th>\n",
       "      <td>57</td>\n",
       "      <td>Gold,Violet T.</td>\n",
       "      <td>1969-08-01</td>\n",
       "      <td>387-37-6873</td>\n",
       "    </tr>\n",
       "    <tr>\n",
       "      <th>17</th>\n",
       "      <td>58</td>\n",
       "      <td>DeSantis,Wilma L.</td>\n",
       "      <td>1924-08-02</td>\n",
       "      <td>894-30-3393</td>\n",
       "    </tr>\n",
       "    <tr>\n",
       "      <th>18</th>\n",
       "      <td>59</td>\n",
       "      <td>Ingrahm,Kirsten P.</td>\n",
       "      <td>1979-12-19</td>\n",
       "      <td>545-28-1959</td>\n",
       "    </tr>\n",
       "    <tr>\n",
       "      <th>19</th>\n",
       "      <td>60</td>\n",
       "      <td>Chesire,Michael Y.</td>\n",
       "      <td>1984-07-25</td>\n",
       "      <td>402-51-9716</td>\n",
       "    </tr>\n",
       "    <tr>\n",
       "      <th>20</th>\n",
       "      <td>61</td>\n",
       "      <td>Martinez,Barbara J.</td>\n",
       "      <td>2014-06-06</td>\n",
       "      <td>855-88-4267</td>\n",
       "    </tr>\n",
       "    <tr>\n",
       "      <th>21</th>\n",
       "      <td>62</td>\n",
       "      <td>O'Donnell,Brenda B.</td>\n",
       "      <td>2006-01-17</td>\n",
       "      <td>623-88-2338</td>\n",
       "    </tr>\n",
       "    <tr>\n",
       "      <th>22</th>\n",
       "      <td>63</td>\n",
       "      <td>Gallant,Will U.</td>\n",
       "      <td>1978-12-19</td>\n",
       "      <td>464-47-4969</td>\n",
       "    </tr>\n",
       "    <tr>\n",
       "      <th>23</th>\n",
       "      <td>64</td>\n",
       "      <td>Clinton,Stavros O.</td>\n",
       "      <td>1963-06-07</td>\n",
       "      <td>647-77-3381</td>\n",
       "    </tr>\n",
       "    <tr>\n",
       "      <th>24</th>\n",
       "      <td>65</td>\n",
       "      <td>Braam,Alvin F.</td>\n",
       "      <td>1959-05-21</td>\n",
       "      <td>809-44-6154</td>\n",
       "    </tr>\n",
       "    <tr>\n",
       "      <th>25</th>\n",
       "      <td>66</td>\n",
       "      <td>Ingersol,Richard U.</td>\n",
       "      <td>1932-05-06</td>\n",
       "      <td>851-98-3939</td>\n",
       "    </tr>\n",
       "    <tr>\n",
       "      <th>26</th>\n",
       "      <td>67</td>\n",
       "      <td>Diavolo,Jules G.</td>\n",
       "      <td>1933-11-30</td>\n",
       "      <td>436-53-3895</td>\n",
       "    </tr>\n",
       "    <tr>\n",
       "      <th>27</th>\n",
       "      <td>68</td>\n",
       "      <td>Uberoth,Stuart F.</td>\n",
       "      <td>2010-10-25</td>\n",
       "      <td>308-93-8200</td>\n",
       "    </tr>\n",
       "    <tr>\n",
       "      <th>28</th>\n",
       "      <td>69</td>\n",
       "      <td>Black,Agnes O.</td>\n",
       "      <td>2013-04-11</td>\n",
       "      <td>324-78-7237</td>\n",
       "    </tr>\n",
       "    <tr>\n",
       "      <th>29</th>\n",
       "      <td>70</td>\n",
       "      <td>Malynko,Michael P.</td>\n",
       "      <td>1962-09-18</td>\n",
       "      <td>883-98-3863</td>\n",
       "    </tr>\n",
       "    <tr>\n",
       "      <th>30</th>\n",
       "      <td>71</td>\n",
       "      <td>Ott,Barb Y.</td>\n",
       "      <td>2011-03-18</td>\n",
       "      <td>742-20-3937</td>\n",
       "    </tr>\n",
       "    <tr>\n",
       "      <th>31</th>\n",
       "      <td>72</td>\n",
       "      <td>Ihringer,Wilma T.</td>\n",
       "      <td>1925-08-02</td>\n",
       "      <td>601-84-2423</td>\n",
       "    </tr>\n",
       "    <tr>\n",
       "      <th>32</th>\n",
       "      <td>73</td>\n",
       "      <td>Isaksen,Michael U.</td>\n",
       "      <td>1972-07-28</td>\n",
       "      <td>566-84-6943</td>\n",
       "    </tr>\n",
       "    <tr>\n",
       "      <th>33</th>\n",
       "      <td>74</td>\n",
       "      <td>Lennon,Christine X.</td>\n",
       "      <td>1970-08-25</td>\n",
       "      <td>187-78-5009</td>\n",
       "    </tr>\n",
       "    <tr>\n",
       "      <th>34</th>\n",
       "      <td>75</td>\n",
       "      <td>Feynman,Orson K.</td>\n",
       "      <td>1948-07-29</td>\n",
       "      <td>694-31-7101</td>\n",
       "    </tr>\n",
       "    <tr>\n",
       "      <th>35</th>\n",
       "      <td>76</td>\n",
       "      <td>Peters,Maria X.</td>\n",
       "      <td>1934-01-28</td>\n",
       "      <td>594-87-7564</td>\n",
       "    </tr>\n",
       "    <tr>\n",
       "      <th>36</th>\n",
       "      <td>77</td>\n",
       "      <td>Edison,Barb K.</td>\n",
       "      <td>1941-03-14</td>\n",
       "      <td>749-16-9953</td>\n",
       "    </tr>\n",
       "    <tr>\n",
       "      <th>37</th>\n",
       "      <td>78</td>\n",
       "      <td>Tsatsulin,Nellie A.</td>\n",
       "      <td>1969-10-21</td>\n",
       "      <td>317-74-3023</td>\n",
       "    </tr>\n",
       "    <tr>\n",
       "      <th>38</th>\n",
       "      <td>79</td>\n",
       "      <td>Adams,Stavros X.</td>\n",
       "      <td>1968-12-09</td>\n",
       "      <td>250-79-7429</td>\n",
       "    </tr>\n",
       "    <tr>\n",
       "      <th>39</th>\n",
       "      <td>80</td>\n",
       "      <td>Page,Laura Y.</td>\n",
       "      <td>1986-12-02</td>\n",
       "      <td>735-16-5768</td>\n",
       "    </tr>\n",
       "    <tr>\n",
       "      <th>40</th>\n",
       "      <td>81</td>\n",
       "      <td>Hills,Phil P.</td>\n",
       "      <td>1963-11-15</td>\n",
       "      <td>931-11-2763</td>\n",
       "    </tr>\n",
       "    <tr>\n",
       "      <th>41</th>\n",
       "      <td>82</td>\n",
       "      <td>Harrison,Greta U.</td>\n",
       "      <td>1965-01-26</td>\n",
       "      <td>627-70-2668</td>\n",
       "    </tr>\n",
       "    <tr>\n",
       "      <th>42</th>\n",
       "      <td>83</td>\n",
       "      <td>Smyth,Jocelyn Z.</td>\n",
       "      <td>1940-03-06</td>\n",
       "      <td>151-49-8012</td>\n",
       "    </tr>\n",
       "    <tr>\n",
       "      <th>43</th>\n",
       "      <td>84</td>\n",
       "      <td>Feynman,Zelda F.</td>\n",
       "      <td>2005-04-16</td>\n",
       "      <td>207-63-9461</td>\n",
       "    </tr>\n",
       "    <tr>\n",
       "      <th>44</th>\n",
       "      <td>85</td>\n",
       "      <td>Pantaleo,Bart N.</td>\n",
       "      <td>1989-11-02</td>\n",
       "      <td>784-84-8844</td>\n",
       "    </tr>\n",
       "    <tr>\n",
       "      <th>45</th>\n",
       "      <td>86</td>\n",
       "      <td>Townsend,Pam W.</td>\n",
       "      <td>2003-10-17</td>\n",
       "      <td>874-68-6763</td>\n",
       "    </tr>\n",
       "    <tr>\n",
       "      <th>46</th>\n",
       "      <td>87</td>\n",
       "      <td>Evans,Nataliya W.</td>\n",
       "      <td>1950-02-15</td>\n",
       "      <td>290-61-8250</td>\n",
       "    </tr>\n",
       "    <tr>\n",
       "      <th>47</th>\n",
       "      <td>88</td>\n",
       "      <td>Klein,Liza O.</td>\n",
       "      <td>1958-10-16</td>\n",
       "      <td>538-72-5937</td>\n",
       "    </tr>\n",
       "    <tr>\n",
       "      <th>48</th>\n",
       "      <td>89</td>\n",
       "      <td>Semmens,Filomena P.</td>\n",
       "      <td>1961-01-16</td>\n",
       "      <td>366-83-4774</td>\n",
       "    </tr>\n",
       "    <tr>\n",
       "      <th>49</th>\n",
       "      <td>90</td>\n",
       "      <td>Winters,Jane V.</td>\n",
       "      <td>1971-03-23</td>\n",
       "      <td>536-27-5329</td>\n",
       "    </tr>\n",
       "  </tbody>\n",
       "</table>\n",
       "</div>"
      ],
      "text/plain": [
       "    ID                  Name         DOB          SSN\n",
       "0   41  Ravazzolo,Charles X.  1953-07-16  924-20-1182\n",
       "1   42     Diavolo,Angela K.  1955-08-04  763-59-8356\n",
       "2   43          Drabek,Mo Q.  1961-10-21  538-94-9875\n",
       "3   44        Umansky,Uma T.  1926-10-20  896-41-7906\n",
       "4   45          Finn,Buzz D.  1952-02-03  210-10-9763\n",
       "5   46       Zevon,Edward C.  1996-06-03  661-45-8189\n",
       "6   47       Koenig,Clint H.  2013-09-19  642-38-5020\n",
       "7   48   Hernandez,Rhonda F.  1979-04-26  658-17-2445\n",
       "8   49     Donaldson,Emma W.  1928-12-28  689-96-9927\n",
       "9   50    Tweed,Alexandra Q.  2013-02-07  134-86-7366\n",
       "10  51     Leiberman,Emma L.  1953-08-21  791-95-1082\n",
       "11  52    Burroughs,Keith C.  1955-02-17  305-17-9685\n",
       "12  53       Olsen,Robert B.  1967-07-03  918-81-2873\n",
       "13  54     Hammel,Quentin F.  1957-02-06  223-47-6264\n",
       "14  55      Ramsay,Sophia I.  1977-02-15  650-96-7289\n",
       "15  56         Ragon,Jose U.  1986-10-18  585-74-1584\n",
       "16  57        Gold,Violet T.  1969-08-01  387-37-6873\n",
       "17  58     DeSantis,Wilma L.  1924-08-02  894-30-3393\n",
       "18  59    Ingrahm,Kirsten P.  1979-12-19  545-28-1959\n",
       "19  60    Chesire,Michael Y.  1984-07-25  402-51-9716\n",
       "20  61   Martinez,Barbara J.  2014-06-06  855-88-4267\n",
       "21  62   O'Donnell,Brenda B.  2006-01-17  623-88-2338\n",
       "22  63       Gallant,Will U.  1978-12-19  464-47-4969\n",
       "23  64    Clinton,Stavros O.  1963-06-07  647-77-3381\n",
       "24  65        Braam,Alvin F.  1959-05-21  809-44-6154\n",
       "25  66   Ingersol,Richard U.  1932-05-06  851-98-3939\n",
       "26  67      Diavolo,Jules G.  1933-11-30  436-53-3895\n",
       "27  68     Uberoth,Stuart F.  2010-10-25  308-93-8200\n",
       "28  69        Black,Agnes O.  2013-04-11  324-78-7237\n",
       "29  70    Malynko,Michael P.  1962-09-18  883-98-3863\n",
       "30  71           Ott,Barb Y.  2011-03-18  742-20-3937\n",
       "31  72     Ihringer,Wilma T.  1925-08-02  601-84-2423\n",
       "32  73    Isaksen,Michael U.  1972-07-28  566-84-6943\n",
       "33  74   Lennon,Christine X.  1970-08-25  187-78-5009\n",
       "34  75      Feynman,Orson K.  1948-07-29  694-31-7101\n",
       "35  76       Peters,Maria X.  1934-01-28  594-87-7564\n",
       "36  77        Edison,Barb K.  1941-03-14  749-16-9953\n",
       "37  78   Tsatsulin,Nellie A.  1969-10-21  317-74-3023\n",
       "38  79      Adams,Stavros X.  1968-12-09  250-79-7429\n",
       "39  80         Page,Laura Y.  1986-12-02  735-16-5768\n",
       "40  81         Hills,Phil P.  1963-11-15  931-11-2763\n",
       "41  82     Harrison,Greta U.  1965-01-26  627-70-2668\n",
       "42  83      Smyth,Jocelyn Z.  1940-03-06  151-49-8012\n",
       "43  84      Feynman,Zelda F.  2005-04-16  207-63-9461\n",
       "44  85      Pantaleo,Bart N.  1989-11-02  784-84-8844\n",
       "45  86       Townsend,Pam W.  2003-10-17  874-68-6763\n",
       "46  87     Evans,Nataliya W.  1950-02-15  290-61-8250\n",
       "47  88         Klein,Liza O.  1958-10-16  538-72-5937\n",
       "48  89   Semmens,Filomena P.  1961-01-16  366-83-4774\n",
       "49  90       Winters,Jane V.  1971-03-23  536-27-5329"
      ]
     },
     "execution_count": 11,
     "metadata": {},
     "output_type": "execute_result"
    }
   ],
   "source": [
    "samples_query.display_records(50)"
   ]
  },
  {
   "cell_type": "markdown",
   "metadata": {},
   "source": [
    "### skip records"
   ]
  },
  {
   "cell_type": "code",
   "execution_count": 12,
   "metadata": {},
   "outputs": [
    {
     "data": {
      "text/html": [
       "<div>\n",
       "<style>\n",
       "    .dataframe thead tr:only-child th {\n",
       "        text-align: right;\n",
       "    }\n",
       "\n",
       "    .dataframe thead th {\n",
       "        text-align: left;\n",
       "    }\n",
       "\n",
       "    .dataframe tbody tr th {\n",
       "        vertical-align: top;\n",
       "    }\n",
       "</style>\n",
       "<table border=\"1\" class=\"dataframe\">\n",
       "  <thead>\n",
       "    <tr style=\"text-align: right;\">\n",
       "      <th></th>\n",
       "      <th>ID</th>\n",
       "      <th>Name</th>\n",
       "      <th>DOB</th>\n",
       "      <th>SSN</th>\n",
       "    </tr>\n",
       "  </thead>\n",
       "  <tbody>\n",
       "    <tr>\n",
       "      <th>0</th>\n",
       "      <td>111</td>\n",
       "      <td>Xander,Christine Q.</td>\n",
       "      <td>1991-03-15</td>\n",
       "      <td>629-14-6409</td>\n",
       "    </tr>\n",
       "    <tr>\n",
       "      <th>1</th>\n",
       "      <td>112</td>\n",
       "      <td>Perez,Nellie P.</td>\n",
       "      <td>1960-01-06</td>\n",
       "      <td>230-60-6205</td>\n",
       "    </tr>\n",
       "    <tr>\n",
       "      <th>2</th>\n",
       "      <td>113</td>\n",
       "      <td>Nichols,Vincent X.</td>\n",
       "      <td>1977-04-25</td>\n",
       "      <td>390-76-9829</td>\n",
       "    </tr>\n",
       "    <tr>\n",
       "      <th>3</th>\n",
       "      <td>114</td>\n",
       "      <td>King,Terry Q.</td>\n",
       "      <td>1924-01-19</td>\n",
       "      <td>484-96-8493</td>\n",
       "    </tr>\n",
       "    <tr>\n",
       "      <th>4</th>\n",
       "      <td>115</td>\n",
       "      <td>Jung,Terry G.</td>\n",
       "      <td>1932-08-15</td>\n",
       "      <td>939-47-9874</td>\n",
       "    </tr>\n",
       "    <tr>\n",
       "      <th>5</th>\n",
       "      <td>116</td>\n",
       "      <td>Evans,Pat J.</td>\n",
       "      <td>1997-12-07</td>\n",
       "      <td>368-93-4336</td>\n",
       "    </tr>\n",
       "    <tr>\n",
       "      <th>6</th>\n",
       "      <td>117</td>\n",
       "      <td>Cheng,Imelda H.</td>\n",
       "      <td>2004-11-06</td>\n",
       "      <td>866-36-5045</td>\n",
       "    </tr>\n",
       "    <tr>\n",
       "      <th>7</th>\n",
       "      <td>118</td>\n",
       "      <td>Tillem,Maria X.</td>\n",
       "      <td>1941-06-13</td>\n",
       "      <td>715-31-6735</td>\n",
       "    </tr>\n",
       "    <tr>\n",
       "      <th>8</th>\n",
       "      <td>119</td>\n",
       "      <td>Ingersol,Vincent O.</td>\n",
       "      <td>1947-06-14</td>\n",
       "      <td>867-48-2437</td>\n",
       "    </tr>\n",
       "    <tr>\n",
       "      <th>9</th>\n",
       "      <td>120</td>\n",
       "      <td>Rodriguez,Sam U.</td>\n",
       "      <td>2009-03-05</td>\n",
       "      <td>145-75-1244</td>\n",
       "    </tr>\n",
       "  </tbody>\n",
       "</table>\n",
       "</div>"
      ],
      "text/plain": [
       "    ID                 Name         DOB          SSN\n",
       "0  111  Xander,Christine Q.  1991-03-15  629-14-6409\n",
       "1  112      Perez,Nellie P.  1960-01-06  230-60-6205\n",
       "2  113   Nichols,Vincent X.  1977-04-25  390-76-9829\n",
       "3  114        King,Terry Q.  1924-01-19  484-96-8493\n",
       "4  115        Jung,Terry G.  1932-08-15  939-47-9874\n",
       "5  116         Evans,Pat J.  1997-12-07  368-93-4336\n",
       "6  117      Cheng,Imelda H.  2004-11-06  866-36-5045\n",
       "7  118      Tillem,Maria X.  1941-06-13  715-31-6735\n",
       "8  119  Ingersol,Vincent O.  1947-06-14  867-48-2437\n",
       "9  120     Rodriguez,Sam U.  2009-03-05  145-75-1244"
      ]
     },
     "execution_count": 12,
     "metadata": {},
     "output_type": "execute_result"
    }
   ],
   "source": [
    "samples_query.skip_records(20)\n",
    "\n",
    "samples_query.display_records(10)"
   ]
  },
  {
   "cell_type": "markdown",
   "metadata": {},
   "source": [
    "## Execute Call to a CACHE Class Query"
   ]
  },
  {
   "cell_type": "code",
   "execution_count": 13,
   "metadata": {},
   "outputs": [
    {
     "name": "stdout",
     "output_type": "stream",
     "text": [
      "result set is now ready and can be fetched\n"
     ]
    }
   ],
   "source": [
    "samples_query.execute_call('Person', 'Extent')"
   ]
  },
  {
   "cell_type": "code",
   "execution_count": 14,
   "metadata": {},
   "outputs": [
    {
     "data": {
      "text/html": [
       "<div>\n",
       "<style>\n",
       "    .dataframe thead tr:only-child th {\n",
       "        text-align: right;\n",
       "    }\n",
       "\n",
       "    .dataframe thead th {\n",
       "        text-align: left;\n",
       "    }\n",
       "\n",
       "    .dataframe tbody tr th {\n",
       "        vertical-align: top;\n",
       "    }\n",
       "</style>\n",
       "<table border=\"1\" class=\"dataframe\">\n",
       "  <thead>\n",
       "    <tr style=\"text-align: right;\">\n",
       "      <th></th>\n",
       "      <th>ID</th>\n",
       "      <th>Name</th>\n",
       "      <th>SSN</th>\n",
       "      <th>Home.City</th>\n",
       "      <th>Home.State</th>\n",
       "    </tr>\n",
       "  </thead>\n",
       "  <tbody>\n",
       "    <tr>\n",
       "      <th>0</th>\n",
       "      <td>1</td>\n",
       "      <td>Isaksen,Alexandra T.</td>\n",
       "      <td>207-26-6677</td>\n",
       "      <td>Queensbury</td>\n",
       "      <td>LA</td>\n",
       "    </tr>\n",
       "    <tr>\n",
       "      <th>1</th>\n",
       "      <td>2</td>\n",
       "      <td>Isaacs,Emily R.</td>\n",
       "      <td>295-77-6690</td>\n",
       "      <td>Gansevoort</td>\n",
       "      <td>SD</td>\n",
       "    </tr>\n",
       "    <tr>\n",
       "      <th>2</th>\n",
       "      <td>3</td>\n",
       "      <td>Feynman,James K.</td>\n",
       "      <td>928-52-1962</td>\n",
       "      <td>Larchmont</td>\n",
       "      <td>CO</td>\n",
       "    </tr>\n",
       "    <tr>\n",
       "      <th>3</th>\n",
       "      <td>4</td>\n",
       "      <td>Vanzetti,Mary R.</td>\n",
       "      <td>234-96-2703</td>\n",
       "      <td>Zanesville</td>\n",
       "      <td>MS</td>\n",
       "    </tr>\n",
       "    <tr>\n",
       "      <th>4</th>\n",
       "      <td>5</td>\n",
       "      <td>Orwell,Alfred R.</td>\n",
       "      <td>422-27-1069</td>\n",
       "      <td>Ukiah</td>\n",
       "      <td>OH</td>\n",
       "    </tr>\n",
       "    <tr>\n",
       "      <th>5</th>\n",
       "      <td>6</td>\n",
       "      <td>Ironhorse,Stuart F.</td>\n",
       "      <td>597-44-6996</td>\n",
       "      <td>Islip</td>\n",
       "      <td>NE</td>\n",
       "    </tr>\n",
       "    <tr>\n",
       "      <th>6</th>\n",
       "      <td>7</td>\n",
       "      <td>Browning,Mary C.</td>\n",
       "      <td>692-44-7227</td>\n",
       "      <td>Zanesville</td>\n",
       "      <td>NC</td>\n",
       "    </tr>\n",
       "    <tr>\n",
       "      <th>7</th>\n",
       "      <td>8</td>\n",
       "      <td>Jones,David S.</td>\n",
       "      <td>269-67-6145</td>\n",
       "      <td>Pueblo</td>\n",
       "      <td>OH</td>\n",
       "    </tr>\n",
       "    <tr>\n",
       "      <th>8</th>\n",
       "      <td>9</td>\n",
       "      <td>Xavier,Dan K.</td>\n",
       "      <td>335-82-9284</td>\n",
       "      <td>Newton</td>\n",
       "      <td>ND</td>\n",
       "    </tr>\n",
       "    <tr>\n",
       "      <th>9</th>\n",
       "      <td>10</td>\n",
       "      <td>Goncharuk,Greta W.</td>\n",
       "      <td>134-52-9380</td>\n",
       "      <td>Reston</td>\n",
       "      <td>SC</td>\n",
       "    </tr>\n",
       "  </tbody>\n",
       "</table>\n",
       "</div>"
      ],
      "text/plain": [
       "   ID                  Name          SSN   Home.City Home.State\n",
       "0   1  Isaksen,Alexandra T.  207-26-6677  Queensbury         LA\n",
       "1   2       Isaacs,Emily R.  295-77-6690  Gansevoort         SD\n",
       "2   3      Feynman,James K.  928-52-1962   Larchmont         CO\n",
       "3   4      Vanzetti,Mary R.  234-96-2703  Zanesville         MS\n",
       "4   5      Orwell,Alfred R.  422-27-1069       Ukiah         OH\n",
       "5   6   Ironhorse,Stuart F.  597-44-6996       Islip         NE\n",
       "6   7      Browning,Mary C.  692-44-7227  Zanesville         NC\n",
       "7   8        Jones,David S.  269-67-6145      Pueblo         OH\n",
       "8   9         Xavier,Dan K.  335-82-9284      Newton         ND\n",
       "9  10    Goncharuk,Greta W.  134-52-9380      Reston         SC"
      ]
     },
     "execution_count": 14,
     "metadata": {},
     "output_type": "execute_result"
    }
   ],
   "source": [
    "samples_query.display_records(10)"
   ]
  },
  {
   "cell_type": "markdown",
   "metadata": {},
   "source": [
    "## Execute the same query invoking the stored procedure with CALL"
   ]
  },
  {
   "cell_type": "code",
   "execution_count": 15,
   "metadata": {},
   "outputs": [
    {
     "name": "stdout",
     "output_type": "stream",
     "text": [
      "result set is now ready and can be fetched\n"
     ]
    },
    {
     "data": {
      "text/html": [
       "<div>\n",
       "<style>\n",
       "    .dataframe thead tr:only-child th {\n",
       "        text-align: right;\n",
       "    }\n",
       "\n",
       "    .dataframe thead th {\n",
       "        text-align: left;\n",
       "    }\n",
       "\n",
       "    .dataframe tbody tr th {\n",
       "        vertical-align: top;\n",
       "    }\n",
       "</style>\n",
       "<table border=\"1\" class=\"dataframe\">\n",
       "  <thead>\n",
       "    <tr style=\"text-align: right;\">\n",
       "      <th></th>\n",
       "      <th>ID</th>\n",
       "      <th>Name</th>\n",
       "      <th>SSN</th>\n",
       "      <th>Home.City</th>\n",
       "      <th>Home.State</th>\n",
       "    </tr>\n",
       "  </thead>\n",
       "  <tbody>\n",
       "    <tr>\n",
       "      <th>0</th>\n",
       "      <td>1</td>\n",
       "      <td>Isaksen,Alexandra T.</td>\n",
       "      <td>207-26-6677</td>\n",
       "      <td>Queensbury</td>\n",
       "      <td>LA</td>\n",
       "    </tr>\n",
       "    <tr>\n",
       "      <th>1</th>\n",
       "      <td>2</td>\n",
       "      <td>Isaacs,Emily R.</td>\n",
       "      <td>295-77-6690</td>\n",
       "      <td>Gansevoort</td>\n",
       "      <td>SD</td>\n",
       "    </tr>\n",
       "    <tr>\n",
       "      <th>2</th>\n",
       "      <td>3</td>\n",
       "      <td>Feynman,James K.</td>\n",
       "      <td>928-52-1962</td>\n",
       "      <td>Larchmont</td>\n",
       "      <td>CO</td>\n",
       "    </tr>\n",
       "    <tr>\n",
       "      <th>3</th>\n",
       "      <td>4</td>\n",
       "      <td>Vanzetti,Mary R.</td>\n",
       "      <td>234-96-2703</td>\n",
       "      <td>Zanesville</td>\n",
       "      <td>MS</td>\n",
       "    </tr>\n",
       "    <tr>\n",
       "      <th>4</th>\n",
       "      <td>5</td>\n",
       "      <td>Orwell,Alfred R.</td>\n",
       "      <td>422-27-1069</td>\n",
       "      <td>Ukiah</td>\n",
       "      <td>OH</td>\n",
       "    </tr>\n",
       "  </tbody>\n",
       "</table>\n",
       "</div>"
      ],
      "text/plain": [
       "  ID                  Name          SSN   Home.City Home.State\n",
       "0  1  Isaksen,Alexandra T.  207-26-6677  Queensbury         LA\n",
       "1  2       Isaacs,Emily R.  295-77-6690  Gansevoort         SD\n",
       "2  3      Feynman,James K.  928-52-1962   Larchmont         CO\n",
       "3  4      Vanzetti,Mary R.  234-96-2703  Zanesville         MS\n",
       "4  5      Orwell,Alfred R.  422-27-1069       Ukiah         OH"
      ]
     },
     "execution_count": 15,
     "metadata": {},
     "output_type": "execute_result"
    }
   ],
   "source": [
    "samples_query.execute_sql(\"CALL Sample.Person_Extent\")\n",
    "samples_query.display_records(5)"
   ]
  },
  {
   "cell_type": "markdown",
   "metadata": {},
   "source": [
    "## Execute Call to a CACHE Class Query with parameter"
   ]
  },
  {
   "cell_type": "code",
   "execution_count": 16,
   "metadata": {},
   "outputs": [
    {
     "name": "stdout",
     "output_type": "stream",
     "text": [
      "result set is now ready and can be fetched\n",
      "Execution reached the end of the result set\n"
     ]
    },
    {
     "data": {
      "text/html": [
       "<div>\n",
       "<style>\n",
       "    .dataframe thead tr:only-child th {\n",
       "        text-align: right;\n",
       "    }\n",
       "\n",
       "    .dataframe thead th {\n",
       "        text-align: left;\n",
       "    }\n",
       "\n",
       "    .dataframe tbody tr th {\n",
       "        vertical-align: top;\n",
       "    }\n",
       "</style>\n",
       "<table border=\"1\" class=\"dataframe\">\n",
       "  <thead>\n",
       "    <tr style=\"text-align: right;\">\n",
       "      <th></th>\n",
       "      <th>ID</th>\n",
       "      <th>Name</th>\n",
       "      <th>DOB</th>\n",
       "      <th>SSN</th>\n",
       "    </tr>\n",
       "  </thead>\n",
       "  <tbody>\n",
       "    <tr>\n",
       "      <th>0</th>\n",
       "      <td>175</td>\n",
       "      <td>Adam,Lisa H.</td>\n",
       "      <td>1927-10-09</td>\n",
       "      <td>252-98-5363</td>\n",
       "    </tr>\n",
       "    <tr>\n",
       "      <th>1</th>\n",
       "      <td>154</td>\n",
       "      <td>Adams,Liza Z.</td>\n",
       "      <td>1996-10-01</td>\n",
       "      <td>473-63-1193</td>\n",
       "    </tr>\n",
       "    <tr>\n",
       "      <th>2</th>\n",
       "      <td>79</td>\n",
       "      <td>Adams,Stavros X.</td>\n",
       "      <td>1968-12-09</td>\n",
       "      <td>250-79-7429</td>\n",
       "    </tr>\n",
       "    <tr>\n",
       "      <th>3</th>\n",
       "      <td>123</td>\n",
       "      <td>Alton,Frances S.</td>\n",
       "      <td>1946-07-30</td>\n",
       "      <td>956-58-1061</td>\n",
       "    </tr>\n",
       "  </tbody>\n",
       "</table>\n",
       "</div>"
      ],
      "text/plain": [
       "    ID              Name         DOB          SSN\n",
       "0  175      Adam,Lisa H.  1927-10-09  252-98-5363\n",
       "1  154     Adams,Liza Z.  1996-10-01  473-63-1193\n",
       "2   79  Adams,Stavros X.  1968-12-09  250-79-7429\n",
       "3  123  Alton,Frances S.  1946-07-30  956-58-1061"
      ]
     },
     "execution_count": 16,
     "metadata": {},
     "output_type": "execute_result"
    }
   ],
   "source": [
    "samples_query.execute_call('Person', 'ByName', 'A')\n",
    "samples_query.display_records(5)"
   ]
  },
  {
   "cell_type": "markdown",
   "metadata": {},
   "source": [
    "## Execute SQL SELECT query with a single parameter"
   ]
  },
  {
   "cell_type": "code",
   "execution_count": 17,
   "metadata": {},
   "outputs": [
    {
     "name": "stdout",
     "output_type": "stream",
     "text": [
      "result set is now ready and can be fetched\n",
      "Execution reached the end of the result set\n"
     ]
    },
    {
     "data": {
      "text/html": [
       "<div>\n",
       "<style>\n",
       "    .dataframe thead tr:only-child th {\n",
       "        text-align: right;\n",
       "    }\n",
       "\n",
       "    .dataframe thead th {\n",
       "        text-align: left;\n",
       "    }\n",
       "\n",
       "    .dataframe tbody tr th {\n",
       "        vertical-align: top;\n",
       "    }\n",
       "</style>\n",
       "<table border=\"1\" class=\"dataframe\">\n",
       "  <thead>\n",
       "    <tr style=\"text-align: right;\">\n",
       "      <th></th>\n",
       "      <th>ID</th>\n",
       "      <th>Name</th>\n",
       "      <th>DOB</th>\n",
       "      <th>SSN</th>\n",
       "    </tr>\n",
       "  </thead>\n",
       "  <tbody>\n",
       "    <tr>\n",
       "      <th>0</th>\n",
       "      <td>79</td>\n",
       "      <td>Adams,Stavros X.</td>\n",
       "      <td>1968-12-09</td>\n",
       "      <td>250-79-7429</td>\n",
       "    </tr>\n",
       "    <tr>\n",
       "      <th>1</th>\n",
       "      <td>123</td>\n",
       "      <td>Alton,Frances S.</td>\n",
       "      <td>1946-07-30</td>\n",
       "      <td>956-58-1061</td>\n",
       "    </tr>\n",
       "    <tr>\n",
       "      <th>2</th>\n",
       "      <td>154</td>\n",
       "      <td>Adams,Liza Z.</td>\n",
       "      <td>1996-10-01</td>\n",
       "      <td>473-63-1193</td>\n",
       "    </tr>\n",
       "    <tr>\n",
       "      <th>3</th>\n",
       "      <td>175</td>\n",
       "      <td>Adam,Lisa H.</td>\n",
       "      <td>1927-10-09</td>\n",
       "      <td>252-98-5363</td>\n",
       "    </tr>\n",
       "  </tbody>\n",
       "</table>\n",
       "</div>"
      ],
      "text/plain": [
       "    ID              Name         DOB          SSN\n",
       "0   79  Adams,Stavros X.  1968-12-09  250-79-7429\n",
       "1  123  Alton,Frances S.  1946-07-30  956-58-1061\n",
       "2  154     Adams,Liza Z.  1996-10-01  473-63-1193\n",
       "3  175      Adam,Lisa H.  1927-10-09  252-98-5363"
      ]
     },
     "execution_count": 17,
     "metadata": {},
     "output_type": "execute_result"
    }
   ],
   "source": [
    "sqlstr = \"SELECT ID, Name, DOB, SSN \\\n",
    "               FROM SAMPLE.PERSON \\\n",
    "               WHERE Name %STARTSWITH ?\"\n",
    "\n",
    "samples_query.execute_sql(sqlstr,'A')\n",
    "samples_query.display_records(5)"
   ]
  },
  {
   "cell_type": "code",
   "execution_count": null,
   "metadata": {
    "collapsed": true
   },
   "outputs": [],
   "source": []
  }
 ],
 "metadata": {
  "kernelspec": {
   "display_name": "Python 3",
   "language": "python",
   "name": "python3"
  },
  "language_info": {
   "codemirror_mode": {
    "name": "ipython",
    "version": 3
   },
   "file_extension": ".py",
   "mimetype": "text/x-python",
   "name": "python",
   "nbconvert_exporter": "python",
   "pygments_lexer": "ipython3",
   "version": "3.6.3"
  }
 },
 "nbformat": 4,
 "nbformat_minor": 2
}
