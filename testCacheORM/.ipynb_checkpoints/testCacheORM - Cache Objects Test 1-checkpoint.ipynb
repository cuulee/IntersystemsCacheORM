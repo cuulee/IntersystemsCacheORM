{
 "cells": [
  {
   "cell_type": "markdown",
   "metadata": {},
   "source": [
    "# Demo of CacheORM Module - Cache Objects Test 1"
   ]
  },
  {
   "cell_type": "code",
   "execution_count": 1,
   "metadata": {
    "collapsed": true
   },
   "outputs": [],
   "source": [
    "from CacheORM import CacheClass"
   ]
  },
  {
   "cell_type": "markdown",
   "metadata": {},
   "source": [
    "## Create a CacheInstance object"
   ]
  },
  {
   "cell_type": "code",
   "execution_count": 2,
   "metadata": {},
   "outputs": [
    {
     "name": "stdout",
     "output_type": "stream",
     "text": [
      "Cache Python Object-Relational Mapper Module : \n",
      "Enhanced OOP porting of Intersystems Cache python binding modules\n",
      "(C) 2017 HEALIS.EU - Athanassios I. Hatzis, All Rights Reserved\n",
      "\n",
      "CACHE Connection object to  SAMPLES  is created successfully.\n",
      "CACHE Connection Implementation Version :  1.0.1\n",
      "CACHE Database object is created successfully\n",
      "CACHE Class object is created successfully\n",
      "CACHE Instance object is created successfully\n"
     ]
    },
    {
     "data": {
      "text/plain": [
       "CacheClass Object(localhost, 1972, _SYSTEM, SYS, SAMPLES, 'SAMPLES.Sample.Person', '188')"
      ]
     },
     "execution_count": 2,
     "metadata": {},
     "output_type": "execute_result"
    }
   ],
   "source": [
    "person = CacheClass(username='_SYSTEM', password='SYS', objectID='188', dl=99)\n",
    "person"
   ]
  },
  {
   "cell_type": "code",
   "execution_count": 3,
   "metadata": {},
   "outputs": [
    {
     "name": "stdout",
     "output_type": "stream",
     "text": [
      "CacheClass(host='localhost', port=1972, username='_SYSTEM', password='SYS', namespace='SAMPLES', cacheclass='SAMPLES.Sample.Person', objectID='188')\n"
     ]
    }
   ],
   "source": [
    "print(person)"
   ]
  },
  {
   "cell_type": "code",
   "execution_count": 4,
   "metadata": {},
   "outputs": [
    {
     "name": "stdout",
     "output_type": "stream",
     "text": [
      "CACHE_Object     : <class 'intersys.pythonbind3.object'> \n",
      "CACHE_Database   : <class 'intersys.pythonbind3.database'> \n",
      "CACHE_Connection : <class 'intersys.pythonbind3.connection'>\n"
     ]
    }
   ],
   "source": [
    "print(person.private_attributes)"
   ]
  },
  {
   "cell_type": "markdown",
   "metadata": {},
   "source": [
    "## Get Cache object properties"
   ]
  },
  {
   "cell_type": "code",
   "execution_count": 5,
   "metadata": {},
   "outputs": [
    {
     "name": "stdout",
     "output_type": "stream",
     "text": [
      "ID:188\n",
      "SSN: 214-80-9483\n",
      "Name:Chang,Stavros P.\n",
      "DateOfBirth:1982-03-08\n"
     ]
    }
   ],
   "source": [
    "print(f\"ID:{person.id}\\nSSN: {person.get('SSN')}\\nName:{person.get('Name')}\\nDateOfBirth:{person.get('DOB')}\")"
   ]
  },
  {
   "cell_type": "markdown",
   "metadata": {},
   "source": [
    "## Call Cache object method"
   ]
  },
  {
   "cell_type": "code",
   "execution_count": 6,
   "metadata": {},
   "outputs": [
    {
     "data": {
      "text/plain": [
       "3"
      ]
     },
     "execution_count": 6,
     "metadata": {},
     "output_type": "execute_result"
    }
   ],
   "source": [
    "person.object_method(\"Addition\",1,2)"
   ]
  },
  {
   "cell_type": "markdown",
   "metadata": {},
   "source": [
    "## Call Cache built-in class method "
   ]
  },
  {
   "cell_type": "code",
   "execution_count": 7,
   "metadata": {
    "collapsed": true
   },
   "outputs": [],
   "source": [
    "populateUtils = CacheClass(namespace='%SYS', \n",
    "                           cachepackage='%Library', cacheclass='PopulateUtils', \n",
    "                           username='_SYSTEM', password='SYS')"
   ]
  },
  {
   "cell_type": "code",
   "execution_count": 8,
   "metadata": {},
   "outputs": [
    {
     "data": {
      "text/plain": [
       "['524-43-8084',\n",
       " '850-48-8482',\n",
       " '311-71-8900',\n",
       " '591-40-2332',\n",
       " '267-46-8833',\n",
       " '483-57-7584',\n",
       " '716-56-5278']"
      ]
     },
     "execution_count": 8,
     "metadata": {},
     "output_type": "execute_result"
    }
   ],
   "source": [
    "[populateUtils.class_method(\"SSN\") for cnt in range(7)]"
   ]
  },
  {
   "cell_type": "markdown",
   "metadata": {},
   "source": [
    "## Open 10 Instances and read their names"
   ]
  },
  {
   "cell_type": "code",
   "execution_count": 11,
   "metadata": {},
   "outputs": [
    {
     "data": {
      "text/plain": [
       "['Vanzetti,Lawrence B.',\n",
       " 'Bachman,Keith Q.',\n",
       " 'Murray,Bart N.',\n",
       " \"O'Rielly,Frances P.\",\n",
       " 'Cunningham,Natasha V.',\n",
       " 'Yoders,Lawrence B.',\n",
       " 'Ironhorse,Ed T.',\n",
       " 'Xiang,Agnes Z.',\n",
       " 'Chang,Stavros P.',\n",
       " 'Ott,Aviel Q.']"
      ]
     },
     "execution_count": 11,
     "metadata": {},
     "output_type": "execute_result"
    }
   ],
   "source": [
    "[CacheClass(username='_SYSTEM', password='SYS', objectID=str(i)).get('Name') for i in range(180, 190)]"
   ]
  },
  {
   "cell_type": "code",
   "execution_count": null,
   "metadata": {
    "collapsed": true
   },
   "outputs": [],
   "source": []
  }
 ],
 "metadata": {
  "kernelspec": {
   "display_name": "Python 3",
   "language": "python",
   "name": "python3"
  },
  "language_info": {
   "codemirror_mode": {
    "name": "ipython",
    "version": 3
   },
   "file_extension": ".py",
   "mimetype": "text/x-python",
   "name": "python",
   "nbconvert_exporter": "python",
   "pygments_lexer": "ipython3",
   "version": "3.6.3"
  }
 },
 "nbformat": 4,
 "nbformat_minor": 2
}
