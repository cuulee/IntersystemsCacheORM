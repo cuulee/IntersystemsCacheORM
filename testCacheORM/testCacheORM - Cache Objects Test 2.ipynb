{
 "cells": [
  {
   "cell_type": "markdown",
   "metadata": {},
   "source": [
    "# Demo of CacheORM Module - Cache Objects Test 2"
   ]
  },
  {
   "cell_type": "code",
   "execution_count": 2,
   "metadata": {},
   "outputs": [],
   "source": [
    "from CacheORM import CacheClass"
   ]
  },
  {
   "cell_type": "markdown",
   "metadata": {},
   "source": [
    "## Create an instance of PopulateUtils to call built-in CACHE class method "
   ]
  },
  {
   "cell_type": "code",
   "execution_count": 3,
   "metadata": {
    "collapsed": true
   },
   "outputs": [],
   "source": [
    "populateUtils = CacheClass(namespace='%SYS', \n",
    "                           cachepackage='%Library', cacheclass='PopulateUtils', \n",
    "                           username='_SYSTEM', password='SYS')"
   ]
  },
  {
   "cell_type": "code",
   "execution_count": 4,
   "metadata": {},
   "outputs": [
    {
     "data": {
      "text/plain": [
       "CacheClass(localhost, 1972, _SYSTEM, SYS, %SYS, '%SYS.%Library.PopulateUtils', 'No Object Set')"
      ]
     },
     "execution_count": 4,
     "metadata": {},
     "output_type": "execute_result"
    }
   ],
   "source": [
    "populateUtils"
   ]
  },
  {
   "cell_type": "markdown",
   "metadata": {},
   "source": [
    "## Create CacheClass instance"
   ]
  },
  {
   "cell_type": "code",
   "execution_count": 5,
   "metadata": {},
   "outputs": [
    {
     "name": "stdout",
     "output_type": "stream",
     "text": [
      "Cache Python Object-Relational Mapper Module : \n",
      "Enhanced OOP porting of Intersystems Cache python binding modules\n",
      "(C) 2017-2018 HEALIS.EU - Athanassios I. Hatzis\n",
      "\n",
      "GNU Lesser General Public License v3.0\n",
      "\n",
      "CACHE Connection object to  SAMPLES  is created successfully.\n",
      "CACHE Connection Implementation Version :  1.0.1\n",
      "CACHE Database object is created successfully\n",
      "CACHE Class object is created successfully\n",
      "CACHE Instance object is created successfully\n"
     ]
    },
    {
     "data": {
      "text/plain": [
       "CacheClass(localhost, 1972, _SYSTEM, SYS, SAMPLES, 'SAMPLES.Sample.Person', 'No Object Set')"
      ]
     },
     "execution_count": 5,
     "metadata": {},
     "output_type": "execute_result"
    }
   ],
   "source": [
    "person = CacheClass(username='_SYSTEM', password='SYS', dl=99)\n",
    "person"
   ]
  },
  {
   "cell_type": "code",
   "execution_count": 6,
   "metadata": {},
   "outputs": [
    {
     "name": "stdout",
     "output_type": "stream",
     "text": [
      "CacheClass(host='localhost', port=1972, username='_SYSTEM', password='SYS', namespace='SAMPLES', cacheclass='SAMPLES.Sample.Person', 'No Object Set')\n"
     ]
    }
   ],
   "source": [
    "print(person)"
   ]
  },
  {
   "cell_type": "code",
   "execution_count": 7,
   "metadata": {},
   "outputs": [
    {
     "name": "stdout",
     "output_type": "stream",
     "text": [
      "CACHE_Object     : <class 'NoneType'> \n",
      "CACHE_Database   : <class 'intersys.pythonbind3.database'> \n",
      "CACHE_Connection : <class 'intersys.pythonbind3.connection'>\n"
     ]
    }
   ],
   "source": [
    "print(person.private_attributes)"
   ]
  },
  {
   "cell_type": "markdown",
   "metadata": {},
   "source": [
    "## Create a New CACHE Object on the instance of Cache Class"
   ]
  },
  {
   "cell_type": "code",
   "execution_count": 8,
   "metadata": {},
   "outputs": [
    {
     "data": {
      "text/plain": [
       "CacheClass Object(localhost, 1972, _SYSTEM, SYS, SAMPLES, 'SAMPLES.Sample.Person', 'New Object Set')"
      ]
     },
     "execution_count": 8,
     "metadata": {},
     "output_type": "execute_result"
    }
   ],
   "source": [
    "person.new()"
   ]
  },
  {
   "cell_type": "markdown",
   "metadata": {},
   "source": [
    "## Set CACHE Object properties"
   ]
  },
  {
   "cell_type": "code",
   "execution_count": 9,
   "metadata": {
    "collapsed": true
   },
   "outputs": [],
   "source": [
    "person.set_value(\"SSN\",populateUtils.class_method(\"SSN\"))\n",
    "person.set_value(\"Name\", populateUtils.class_method(\"Name\",\"1\"))\n",
    "person.set_value(\"DOB\", populateUtils.class_method(\"Date\"))"
   ]
  },
  {
   "cell_type": "code",
   "execution_count": 10,
   "metadata": {},
   "outputs": [
    {
     "name": "stdout",
     "output_type": "stream",
     "text": [
      "ID:None\n",
      "SSN: 499-62-7568\n",
      "Name:Vonnegut,Chris E.\n",
      "DateOfBirth:1931-05-28\n"
     ]
    }
   ],
   "source": [
    "print(f\"ID:{person.id}\\nSSN: {person.get('SSN')}\\nName:{person.get('Name')}\\nDateOfBirth:{person.get('DOB')}\")"
   ]
  },
  {
   "cell_type": "markdown",
   "metadata": {},
   "source": [
    "## Save CACHE Object"
   ]
  },
  {
   "cell_type": "code",
   "execution_count": 11,
   "metadata": {},
   "outputs": [
    {
     "data": {
      "text/plain": [
       "(CacheClass Object(localhost, 1972, _SYSTEM, SYS, SAMPLES, 'SAMPLES.Sample.Person', '204'),\n",
       " status(0,))"
      ]
     },
     "execution_count": 11,
     "metadata": {},
     "output_type": "execute_result"
    }
   ],
   "source": [
    "person.save()"
   ]
  },
  {
   "cell_type": "markdown",
   "metadata": {},
   "source": [
    "## Create another CACHE Object"
   ]
  },
  {
   "cell_type": "code",
   "execution_count": 12,
   "metadata": {},
   "outputs": [
    {
     "data": {
      "text/plain": [
       "CacheClass Object(localhost, 1972, _SYSTEM, SYS, SAMPLES, 'SAMPLES.Sample.Person', 'New Object Set')"
      ]
     },
     "execution_count": 12,
     "metadata": {},
     "output_type": "execute_result"
    }
   ],
   "source": [
    "female = CacheClass(username='_SYSTEM', password='SYS')\n",
    "female.new()"
   ]
  },
  {
   "cell_type": "code",
   "execution_count": 13,
   "metadata": {},
   "outputs": [
    {
     "data": {
      "text/plain": [
       "(CacheClass Object(localhost, 1972, _SYSTEM, SYS, SAMPLES, 'SAMPLES.Sample.Person', '205'),\n",
       " status(0,))"
      ]
     },
     "execution_count": 13,
     "metadata": {},
     "output_type": "execute_result"
    }
   ],
   "source": [
    "female.set_value(\"SSN\",populateUtils.class_method(\"SSN\"))\n",
    "female.set_value(\"Name\", populateUtils.class_method(\"Name\",\"2\"))\n",
    "female.set_value(\"DOB\", populateUtils.class_method(\"Date\"))\n",
    "female.save()"
   ]
  },
  {
   "cell_type": "code",
   "execution_count": 14,
   "metadata": {},
   "outputs": [
    {
     "name": "stdout",
     "output_type": "stream",
     "text": [
      "ID:205\n",
      "SSN: 957-76-5803\n",
      "Name:Long,Lydia H.\n",
      "DateOfBirth:1966-07-01\n"
     ]
    }
   ],
   "source": [
    "print(f\"ID:{female.id}\\nSSN: {female.get('SSN')}\\nName:{female.get('Name')}\\nDateOfBirth:{female.get('DOB')}\")"
   ]
  },
  {
   "cell_type": "markdown",
   "metadata": {},
   "source": [
    "## Set Object References"
   ]
  },
  {
   "cell_type": "code",
   "execution_count": 15,
   "metadata": {},
   "outputs": [
    {
     "data": {
      "text/plain": [
       "(CacheClass Object(localhost, 1972, _SYSTEM, SYS, SAMPLES, 'SAMPLES.Sample.Person', '205'),\n",
       " status(0,))"
      ]
     },
     "execution_count": 15,
     "metadata": {},
     "output_type": "execute_result"
    }
   ],
   "source": [
    "female.set_refobj(\"Spouse\", person._cache_id)\n",
    "female.save()"
   ]
  },
  {
   "cell_type": "code",
   "execution_count": 16,
   "metadata": {},
   "outputs": [
    {
     "data": {
      "text/plain": [
       "(CacheClass Object(localhost, 1972, _SYSTEM, SYS, SAMPLES, 'SAMPLES.Sample.Person', '204'),\n",
       " status(0,))"
      ]
     },
     "execution_count": 16,
     "metadata": {},
     "output_type": "execute_result"
    }
   ],
   "source": [
    "person.set_refobj(\"Spouse\", female._cache_id)\n",
    "person.save()"
   ]
  },
  {
   "cell_type": "markdown",
   "metadata": {},
   "source": [
    "## Get Object References"
   ]
  },
  {
   "cell_type": "code",
   "execution_count": 17,
   "metadata": {},
   "outputs": [
    {
     "data": {
      "text/plain": [
       "'Long,Lydia H.'"
      ]
     },
     "execution_count": 17,
     "metadata": {},
     "output_type": "execute_result"
    }
   ],
   "source": [
    "person.get(\"Spouse\").get(\"Name\")"
   ]
  },
  {
   "cell_type": "code",
   "execution_count": 18,
   "metadata": {},
   "outputs": [
    {
     "data": {
      "text/plain": [
       "'Vonnegut,Chris E.'"
      ]
     },
     "execution_count": 18,
     "metadata": {},
     "output_type": "execute_result"
    }
   ],
   "source": [
    "female.get(\"Spouse\").get(\"Name\")"
   ]
  },
  {
   "cell_type": "markdown",
   "metadata": {},
   "source": [
    "## Create a CACHE Embedded Object "
   ]
  },
  {
   "cell_type": "code",
   "execution_count": 19,
   "metadata": {
    "collapsed": true
   },
   "outputs": [],
   "source": [
    "street = populateUtils.class_method(\"Street\")\n",
    "city   = populateUtils.class_method(\"City\")\n",
    "state  = populateUtils.class_method(\"USState\")\n",
    "uszip  = populateUtils.class_method(\"USZip\")"
   ]
  },
  {
   "cell_type": "code",
   "execution_count": 20,
   "metadata": {
    "collapsed": true
   },
   "outputs": [],
   "source": [
    "home_address = female.set_embobj('Sample.Address', 'Home')\n",
    "home_address.set(\"Street\",street)\n",
    "home_address.set(\"City\",city)\n",
    "home_address.set(\"State\",state)\n",
    "home_address.set(\"Zip\",uszip)"
   ]
  },
  {
   "cell_type": "code",
   "execution_count": 21,
   "metadata": {},
   "outputs": [
    {
     "data": {
      "text/plain": [
       "(CacheClass Object(localhost, 1972, _SYSTEM, SYS, SAMPLES, 'SAMPLES.Sample.Person', '205'),\n",
       " status(0,))"
      ]
     },
     "execution_count": 21,
     "metadata": {},
     "output_type": "execute_result"
    }
   ],
   "source": [
    "female.save()"
   ]
  },
  {
   "cell_type": "code",
   "execution_count": 22,
   "metadata": {},
   "outputs": [
    {
     "data": {
      "text/plain": [
       "['3152 Madison Court', 'Islip', 'GA', '99159']"
      ]
     },
     "execution_count": 22,
     "metadata": {},
     "output_type": "execute_result"
    }
   ],
   "source": [
    "[female.get('Home').get(property) for property in ['Street', 'City', 'State', 'Zip']]"
   ]
  },
  {
   "cell_type": "code",
   "execution_count": null,
   "metadata": {
    "collapsed": true
   },
   "outputs": [],
   "source": []
  }
 ],
 "metadata": {
  "kernelspec": {
   "display_name": "Python 3",
   "language": "python",
   "name": "python3"
  },
  "language_info": {
   "codemirror_mode": {
    "name": "ipython",
    "version": 3
   },
   "file_extension": ".py",
   "mimetype": "text/x-python",
   "name": "python",
   "nbconvert_exporter": "python",
   "pygments_lexer": "ipython3",
   "version": "3.6.3"
  }
 },
 "nbformat": 4,
 "nbformat_minor": 2
}
